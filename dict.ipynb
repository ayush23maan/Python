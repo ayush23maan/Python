{
 "cells": [
  {
   "cell_type": "code",
   "execution_count": 4,
   "metadata": {},
   "outputs": [],
   "source": [
    "coco  = {\"kind\"  : \"labrador\",\n",
    "         \"owner\" : \"daddy\"}\n",
    "\n",
    "toto  = {\"kind\"  : \"white cat\",\n",
    "         \"owner\" : \"me\"}\n",
    "\n",
    "billu = {\"kind\"  : \"grey cat\",\n",
    "         \"owner\" : \"me\"}\n",
    "\n",
    "sky   = {\"kind\"  : \"dog\",\n",
    "         \"owner\" : \"lori\"}\n",
    "\n",
    "pets = [coco, toto, billu, sky]"
   ]
  },
  {
   "cell_type": "code",
   "execution_count": 13,
   "metadata": {},
   "outputs": [
    {
     "name": "stdout",
     "output_type": "stream",
     "text": [
      "kind labrador\n",
      "owner daddy\n",
      "kind white cat\n",
      "owner me\n",
      "kind grey cat\n",
      "owner me\n",
      "kind dog\n",
      "owner lori\n"
     ]
    }
   ],
   "source": [
    "for pet in pets:\n",
    "    for k,v in pet.items():\n",
    "        print(k,v)"
   ]
  },
  {
   "cell_type": "code",
   "execution_count": 14,
   "metadata": {},
   "outputs": [],
   "source": [
    "rivers = {\"ganga\"      :\"up\",\n",
    "          \"brahmaputra\":\"assam\",\n",
    "          \"ravi\"       :\"punjab\"}"
   ]
  },
  {
   "cell_type": "code",
   "execution_count": 17,
   "metadata": {},
   "outputs": [
    {
     "name": "stdout",
     "output_type": "stream",
     "text": [
      "ganga runs through up\n",
      "brahmaputra runs through assam\n",
      "ravi runs through punjab\n"
     ]
    }
   ],
   "source": [
    "for river,state in rivers.items():\n",
    "    print(river, \"runs through\", state)"
   ]
  },
  {
   "cell_type": "markdown",
   "metadata": {},
   "source": [
    "Start by creating an empty dictionary called \n",
    "\n",
    "user_profile.\n",
    "\n",
    "Add the following key-value pairs to your dictionary: first_name (a person's first name), last_name (a person's last name), and age (their age).\n",
    "\n",
    "Access each value and print a series of statements, such as \"First Name: Ada\" and \"Age: 35\".\n",
    "\n",
    "Now, modify the value of the age key to be one year older. Print the \n",
    "\n",
    "age again to confirm the change.\n",
    "\n",
    "Finally, use the \n",
    "\n",
    "del statement to remove the age key-value pair from the dictionary completely.\n",
    "\n",
    "    Print the dictionary one last time to show that the age information is gone.\n",
    "\n"
   ]
  },
  {
   "cell_type": "code",
   "execution_count": 25,
   "metadata": {},
   "outputs": [
    {
     "name": "stdout",
     "output_type": "stream",
     "text": [
      "['ayush']'s age is [28]\n",
      "koninika's age is 34\n"
     ]
    }
   ],
   "source": [
    "user_profile_0 = {}\n",
    "\n",
    "user_profile_0['first_name'] = [\"ayush\"]\n",
    "user_profile_0['last_name'] = [\"yadav\"]\n",
    "user_profile_0['age'] = [28]\n",
    "\n",
    "user_profile_1 = {}\n",
    "user_profile_1[\"first_name\"] = (\"koninika\")\n",
    "user_profile_1[\"last_name\"] = (\"mukherjee\")\n",
    "user_profile_1['age'] = (34)\n",
    "user_profiles = [user_profile_0, user_profile_1]\n",
    "\n",
    "for user in user_profiles:\n",
    "    print(f'{user[\"first_name\"]}\\'s age is {user[\"age\"]}')\n"
   ]
  },
  {
   "cell_type": "code",
   "execution_count": 27,
   "metadata": {},
   "outputs": [
    {
     "name": "stdout",
     "output_type": "stream",
     "text": [
      "I love all types of fillings in ['veg', 'non veg']\n",
      "I hate all types in ['steam', 'tandoori'] exvcept steam\n",
      "I love all types of price in ['40', '80']\n"
     ]
    }
   ],
   "source": [
    "\n",
    "momo_types = {\"fillings\":[\"veg\", \"non veg\"],\n",
    "        \"cooking type\" : [\"steam\", \"tandoori\"],\n",
    "         \"price\" : [\"40\", \"80\"] }\n",
    "\n",
    "for k,v in momo_types.items():\n",
    "    if k == \"cooking type\":\n",
    "        print(f'I hate all types in {v} exvcept steam')\n",
    "    else :\n",
    "        print(f\"I love all types of {k} in {v}\")"
   ]
  },
  {
   "cell_type": "markdown",
   "metadata": {},
   "source": [
    "Create the Pizza: Start by creating a dictionary called pizza. Add a key for 'crust' with a value of 'hand-tossed' and a key for 'toppings' with a list containing 'pepperoni' and 'extra cheese'.\n",
    "\n",
    "Modify a Value: The customer changes their mind. Modify the value of the 'crust' key to 'thin crust'.\n",
    "\n",
    "Add to a Nested List: The customer wants another topping. Add 'mushrooms' to the end of the 'toppings' list.\n",
    "\n",
    "Remove from a Nested List: The customer decides against one of the original toppings. Remove 'extra cheese' from the 'toppings' list.\n",
    "\n",
    "Safely Check for a Key: Use the get() method to check if the dictionary has a 'size' key. Since it doesn't, provide a default value of 'medium' and print a message like \"This will be a medium pizza.\""
   ]
  },
  {
   "cell_type": "code",
   "execution_count": 28,
   "metadata": {},
   "outputs": [
    {
     "data": {
      "text/plain": [
       "{'crust': 'cheese', 'toppings': ['jalapeno', 'tomato']}"
      ]
     },
     "execution_count": 28,
     "metadata": {},
     "output_type": "execute_result"
    }
   ],
   "source": [
    "pizza = {}\n",
    "pizza['crust'] = \"cheese\"\n",
    "pizza[\"toppings\"] = [\"jalapeno\", \"tomato\"]\n",
    "pizza"
   ]
  },
  {
   "cell_type": "code",
   "execution_count": 29,
   "metadata": {},
   "outputs": [
    {
     "data": {
      "text/plain": [
       "{'crust': 'regular', 'toppings': ['jalapeno', 'tomato']}"
      ]
     },
     "execution_count": 29,
     "metadata": {},
     "output_type": "execute_result"
    }
   ],
   "source": [
    "pizza[\"crust\"] = \"regular\"\n",
    "pizza"
   ]
  },
  {
   "cell_type": "code",
   "execution_count": 30,
   "metadata": {},
   "outputs": [
    {
     "data": {
      "text/plain": [
       "{'crust': 'regular', 'toppings': ['jalapeno', 'tomato', 'mushrooms']}"
      ]
     },
     "execution_count": 30,
     "metadata": {},
     "output_type": "execute_result"
    }
   ],
   "source": [
    "pizza[\"toppings\"].append(\"mushrooms\")\n",
    "pizza"
   ]
  },
  {
   "cell_type": "code",
   "execution_count": 32,
   "metadata": {},
   "outputs": [
    {
     "ename": "ValueError",
     "evalue": "list.remove(x): x not in list",
     "output_type": "error",
     "traceback": [
      "\u001b[1;31m---------------------------------------------------------------------------\u001b[0m",
      "\u001b[1;31mValueError\u001b[0m                                Traceback (most recent call last)",
      "Cell \u001b[1;32mIn[32], line 1\u001b[0m\n\u001b[1;32m----> 1\u001b[0m \u001b[43mpizza\u001b[49m\u001b[43m[\u001b[49m\u001b[38;5;124;43m\"\u001b[39;49m\u001b[38;5;124;43mtoppings\u001b[39;49m\u001b[38;5;124;43m\"\u001b[39;49m\u001b[43m]\u001b[49m\u001b[38;5;241;43m.\u001b[39;49m\u001b[43mremove\u001b[49m\u001b[43m(\u001b[49m\u001b[38;5;124;43m\"\u001b[39;49m\u001b[38;5;124;43mtomato\u001b[39;49m\u001b[38;5;124;43m\"\u001b[39;49m\u001b[43m)\u001b[49m\n\u001b[0;32m      2\u001b[0m pizza\n",
      "\u001b[1;31mValueError\u001b[0m: list.remove(x): x not in list"
     ]
    }
   ],
   "source": [
    "pizza[\"toppings\"].remove(\"tomato\")\n",
    "pizza"
   ]
  },
  {
   "cell_type": "code",
   "execution_count": 39,
   "metadata": {},
   "outputs": [
    {
     "data": {
      "text/plain": [
       "{'crust': 'regular', 'toppings': ['jalapeno', 'mushrooms'], 'size': 'regular'}"
      ]
     },
     "execution_count": 39,
     "metadata": {},
     "output_type": "execute_result"
    }
   ],
   "source": [
    "if pizza.get(\"size\") == None:\n",
    "    pizza[\"size\"] = \"regular\"\n",
    "pizza"
   ]
  },
  {
   "cell_type": "code",
   "execution_count": 40,
   "metadata": {},
   "outputs": [
    {
     "data": {
      "text/plain": [
       "{'toppings': ['jalapeno', 'mushrooms'], 'size': 'regular'}"
      ]
     },
     "execution_count": 40,
     "metadata": {},
     "output_type": "execute_result"
    }
   ],
   "source": [
    "del pizza['crust']\n",
    "pizza"
   ]
  }
 ],
 "metadata": {
  "kernelspec": {
   "display_name": "Python 3",
   "language": "python",
   "name": "python3"
  },
  "language_info": {
   "codemirror_mode": {
    "name": "ipython",
    "version": 3
   },
   "file_extension": ".py",
   "mimetype": "text/x-python",
   "name": "python",
   "nbconvert_exporter": "python",
   "pygments_lexer": "ipython3",
   "version": "3.11.9"
  }
 },
 "nbformat": 4,
 "nbformat_minor": 2
}
