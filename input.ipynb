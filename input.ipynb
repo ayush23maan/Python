{
 "cells": [
  {
   "cell_type": "code",
   "execution_count": 1,
   "metadata": {},
   "outputs": [
    {
     "name": "stdout",
     "output_type": "stream",
     "text": [
      "Youa re old enough to marry at 28\n"
     ]
    }
   ],
   "source": [
    "prompt = \"Tell me your age sir\"\n",
    "age = input(prompt)\n",
    "age = int(age)\n",
    "print(f'Youa re old enough to marry at {age}')"
   ]
  },
  {
   "cell_type": "code",
   "execution_count": 12,
   "metadata": {},
   "outputs": [
    {
     "data": {
      "text/plain": [
       "9"
      ]
     },
     "execution_count": 12,
     "metadata": {},
     "output_type": "execute_result"
    }
   ],
   "source": [
    "100%13"
   ]
  },
  {
   "cell_type": "markdown",
   "metadata": {},
   "source": [
    "A movie theater charges different ticket prices depending on\n",
    "a person’s age. If a person is under the age of 3, the ticket is free; if they are\n",
    "between 3 and 12, the ticket is $10; and if they are over age 12, the ticket is\n",
    "$15. Write a loop in which you ask users their age, and then tell them the cost\n",
    "of their movie ticket."
   ]
  },
  {
   "cell_type": "code",
   "execution_count": 16,
   "metadata": {},
   "outputs": [
    {
     "name": "stdout",
     "output_type": "stream",
     "text": [
      "free ticket\n",
      "ticket is 10\n",
      "ticket is 15\n"
     ]
    }
   ],
   "source": [
    "message = \"\"\n",
    "while message != \"quit\":\n",
    "    message = input(\"Enter age or quit : \")\n",
    "    if message == 'quit':\n",
    "        break\n",
    "\n",
    "    age = int(message)\n",
    "    if age < 3 :\n",
    "        print(\"free ticket\")\n",
    "    elif 3 < age < 12:\n",
    "        print(\"ticket is 10\")\n",
    "\n",
    "    else:\n",
    "        print(\"ticket is 15\")"
   ]
  },
  {
   "cell_type": "code",
   "execution_count": 38,
   "metadata": {},
   "outputs": [
    {
     "data": {
      "text/plain": [
       "True"
      ]
     },
     "execution_count": 38,
     "metadata": {},
     "output_type": "execute_result"
    }
   ],
   "source": [
    "isinstance(message, object)"
   ]
  },
  {
   "cell_type": "markdown",
   "metadata": {},
   "source": [
    "Deli: Make a list called sandwich_orders and fill it with the names of vari-\n",
    "ous sandwiches. Then make an empty list called finished_sandwiches. Loop\n",
    "through the list of sandwich orders and print a message for each order, such\n",
    "as I made your tuna sandwich. As each sandwich is made, move it to the list\n",
    "of finished sandwiches. After all the sandwiches have been made, print a\n",
    "message listing each sandwich that was made."
   ]
  },
  {
   "cell_type": "code",
   "execution_count": 12,
   "metadata": {},
   "outputs": [
    {
     "name": "stdout",
     "output_type": "stream",
     "text": [
      "preparing potato sandwich\n",
      "preparing dahi sandwich\n",
      "preparing chicken sandwich\n",
      "preparing cheese sandwich\n",
      "preparing momo sandwich\n",
      "all these sandwiches were made ['potato', 'dahi', 'chicken', 'cheese', 'momo']\n"
     ]
    }
   ],
   "source": [
    "sandwich_orders = ['momo', 'cheese', 'chicken', 'dahi', 'potato']\n",
    "finished_sandwiches = []\n",
    "while sandwich_orders:\n",
    "    order = sandwich_orders.pop()\n",
    "    print(f'preparing {order} sandwich')\n",
    "    finished_sandwiches.append(order)\n",
    "\n",
    "print(f\"all these sandwiches were made {finished_sandwiches}\" )"
   ]
  },
  {
   "cell_type": "markdown",
   "metadata": {},
   "source": [
    "No Pastrami: Using the list sandwich_orders from Exercise 7-8, make sure\n",
    "the sandwich 'pastrami' appears in the list at least three times. Add code\n",
    "near the beginning of your program to print a message saying the deli has\n",
    "run out of pastrami, and then use a while loop to remove all occurrences of\n",
    "'pastrami' from sandwich_orders. Make sure no pastrami sandwiches end up\n",
    "in finished_sandwiches."
   ]
  },
  {
   "cell_type": "code",
   "execution_count": 2,
   "metadata": {},
   "outputs": [
    {
     "name": "stdout",
     "output_type": "stream",
     "text": [
      "Deli has run out of cheese\n",
      "['momo', 'chicken', 'dahi', 'potato']\n"
     ]
    }
   ],
   "source": [
    "sandwich_orders = ['cheese','momo', 'cheese', 'chicken', 'dahi', 'cheese', 'potato']\n",
    "\n",
    "print(\"Deli has run out of cheese\")\n",
    "\n",
    "while 'cheese' in sandwich_orders:\n",
    "    sandwich_orders.remove('cheese')\n",
    "\n",
    "print(sandwich_orders)"
   ]
  },
  {
   "cell_type": "markdown",
   "metadata": {},
   "source": [
    "Write a function called make_album() that builds a dictionary\n",
    "describing a music album. The function should take in an artist name and an\n",
    "album title, and it should return a dictionary containing these two pieces of\n",
    "information. Use the function to make three dictionaries representing different\n",
    "albums. Print each return value to show that the dictionaries are storing the\n",
    "album information correctly.\n",
    "Use None to add an optional parameter to make_album() that allows you to\n",
    "store the number of songs on an album. If the calling line includes a value for\n",
    "the number of songs, add that value to the album’s dictionary. Make at least\n",
    "one new function call that includes the number of songs on an album."
   ]
  },
  {
   "cell_type": "code",
   "execution_count": 5,
   "metadata": {},
   "outputs": [],
   "source": [
    "def make_album(artist_name, album_title, num_songs=None):\n",
    "    music = {'artist name' : artist_name,\n",
    "             'album title' : album_title}\n",
    "    \n",
    "    if num_songs:\n",
    "        music['number of songs'] = num_songs\n",
    "\n",
    "    return music"
   ]
  },
  {
   "cell_type": "code",
   "execution_count": 10,
   "metadata": {},
   "outputs": [
    {
     "name": "stdout",
     "output_type": "stream",
     "text": [
      "{'artist name': 'akon', 'album title': 'mj'}\n"
     ]
    }
   ],
   "source": [
    "for i in range(1):\n",
    "    name = input(\"Give artist name\")\n",
    "    title = input(\"Give album name\")\n",
    "    number = input('Give number of songs')\n",
    "    print(make_album(name, title, number))"
   ]
  },
  {
   "cell_type": "markdown",
   "metadata": {},
   "source": [
    "Make a list containing a series of short text messages. Pass the\n",
    "list to a function called show_messages(), which prints each text message."
   ]
  },
  {
   "cell_type": "code",
   "execution_count": 30,
   "metadata": {},
   "outputs": [
    {
     "name": "stdout",
     "output_type": "stream",
     "text": [
      "Hello Sir\n",
      "I eat momos\n",
      "Lets go out\n"
     ]
    }
   ],
   "source": []
  },
  {
   "cell_type": "code",
   "execution_count": 41,
   "metadata": {},
   "outputs": [
    {
     "name": "stdout",
     "output_type": "stream",
     "text": [
      "Hello Sir\n",
      "I eat momos\n",
      "Lets go out\n",
      "Hello Sir\n",
      "I eat momos\n",
      "Lets go out\n"
     ]
    }
   ],
   "source": [
    "messages = [\"Hello Sir\", \"I eat momos\", \"Lets go out\"]\n",
    "\n",
    "def show_messages(messages):\n",
    "    for message in messages:\n",
    "        print(message)\n",
    "\n",
    "show_messages(messages)\n",
    "sent_messages = []\n",
    "def send_messages(messages, sent_messages):\n",
    "    while messages:\n",
    "        message = messages.pop(0)\n",
    "        show_messages([message])\n",
    "        sent_messages.append(message)    \n",
    "\n",
    "send_messages(messages, sent_messages)"
   ]
  },
  {
   "cell_type": "code",
   "execution_count": 45,
   "metadata": {},
   "outputs": [
    {
     "data": {
      "text/plain": [
       "['Hello Sir', 'I eat momos', 'Lets go out']"
      ]
     },
     "execution_count": 45,
     "metadata": {},
     "output_type": "execute_result"
    }
   ],
   "source": [
    "sent_messages"
   ]
  },
  {
   "cell_type": "markdown",
   "metadata": {},
   "source": [
    "Start with a copy of your program from Exercise 8-9.\n",
    "Write a function called send_messages() that prints each text message and\n",
    "moves each message to a new list called sent_messages as it’s printed. After\n",
    "calling the function, print both of your lists to make sure the messages were\n",
    "moved correctly."
   ]
  },
  {
   "cell_type": "code",
   "execution_count": null,
   "metadata": {},
   "outputs": [],
   "source": []
  }
 ],
 "metadata": {
  "kernelspec": {
   "display_name": "Python 3",
   "language": "python",
   "name": "python3"
  },
  "language_info": {
   "codemirror_mode": {
    "name": "ipython",
    "version": 3
   },
   "file_extension": ".py",
   "mimetype": "text/x-python",
   "name": "python",
   "nbconvert_exporter": "python",
   "pygments_lexer": "ipython3",
   "version": "3.11.9"
  }
 },
 "nbformat": 4,
 "nbformat_minor": 2
}
